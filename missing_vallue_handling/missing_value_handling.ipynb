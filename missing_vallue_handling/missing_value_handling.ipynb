{
 "cells": [
  {
   "cell_type": "code",
   "execution_count": 32,
   "metadata": {},
   "outputs": [],
   "source": [
    "import pandas as pd"
   ]
  },
  {
   "cell_type": "code",
   "execution_count": 33,
   "metadata": {},
   "outputs": [],
   "source": [
    "df = pd.read_excel(\"/Users/khalilur/Documents/Machine-Learning/Machine-Learning/missing_vallue_handling/data1.xlsx\")"
   ]
  },
  {
   "cell_type": "code",
   "execution_count": 34,
   "metadata": {},
   "outputs": [],
   "source": [
    "# Function to handle missing values\n",
    "def handle_missing_values(df, strategy=\"mean\", target_strategy=\"mode\"):\n",
    "    df_copy = df.copy()\n",
    "\n",
    "    # Handling feature columns\n",
    "    if strategy == \"mean\":\n",
    "        df_copy.iloc[:, :-1] = df_copy.iloc[:, :-1].fillna(df_copy.iloc[:, :-1].mean())\n",
    "    elif strategy == \"median\":\n",
    "        df_copy.iloc[:, :-1] = df_copy.iloc[:, :-1].fillna(df_copy.iloc[:, :-1].median())\n",
    "    elif strategy == \"mode\":\n",
    "        df_copy.iloc[:, :-1] = df_copy.iloc[:, :-1].fillna(df_copy.iloc[:, :-1].mode().iloc[0])\n",
    "    elif strategy == \"drop\":\n",
    "        df_copy.dropna(subset=df_copy.columns[:-1], inplace=True)\n",
    "    else:\n",
    "        raise ValueError(\"Invalid strategy. Choose from 'mean', 'median', 'mode', or 'drop'.\")\n",
    "\n",
    "    # Handling target column separately\n",
    "    if target_strategy == \"mode\":\n",
    "        df_copy[\"Target\"].fillna(df_copy[\"Target\"].mode()[0], inplace=True)\n",
    "    elif target_strategy == \"drop\":\n",
    "        df_copy.dropna(subset=[\"Target\"], inplace=True)\n",
    "    else:\n",
    "        raise ValueError(\"Invalid target_strategy. Choose from 'mode' or 'drop'.\")\n",
    "\n",
    "    return df_copy"
   ]
  },
  {
   "cell_type": "code",
   "execution_count": 35,
   "metadata": {},
   "outputs": [
    {
     "name": "stdout",
     "output_type": "stream",
     "text": [
      "Missing values handled successfully. Cleaned file saved as 'cleaned_numerical_data.xlsx'.\n"
     ]
    },
    {
     "name": "stderr",
     "output_type": "stream",
     "text": [
      "/var/folders/38/g1lvjpcx3f1gtcdqjh6jyt1c0000gn/T/ipykernel_86296/1063760590.py:19: FutureWarning: A value is trying to be set on a copy of a DataFrame or Series through chained assignment using an inplace method.\n",
      "The behavior will change in pandas 3.0. This inplace method will never work because the intermediate object on which we are setting values always behaves as a copy.\n",
      "\n",
      "For example, when doing 'df[col].method(value, inplace=True)', try using 'df.method({col: value}, inplace=True)' or df[col] = df[col].method(value) instead, to perform the operation inplace on the original object.\n",
      "\n",
      "\n",
      "  df_copy[\"Target\"].fillna(df_copy[\"Target\"].mode()[0], inplace=True)\n"
     ]
    }
   ],
   "source": [
    "# Apply the function\n",
    "df_filled = handle_missing_values(df, strategy=\"mean\", target_strategy=\"mode\")\n",
    "\n",
    "# Save the cleaned dataset\n",
    "df_filled.to_excel(\"cleaned_numerical_data.xlsx\", index=False)\n",
    "\n",
    "print(\"Missing values handled successfully. Cleaned file saved as 'cleaned_numerical_data.xlsx'.\")\n"
   ]
  }
 ],
 "metadata": {
  "kernelspec": {
   "display_name": ".venv",
   "language": "python",
   "name": "python3"
  },
  "language_info": {
   "codemirror_mode": {
    "name": "ipython",
    "version": 3
   },
   "file_extension": ".py",
   "mimetype": "text/x-python",
   "name": "python",
   "nbconvert_exporter": "python",
   "pygments_lexer": "ipython3",
   "version": "3.13.1"
  }
 },
 "nbformat": 4,
 "nbformat_minor": 2
}
